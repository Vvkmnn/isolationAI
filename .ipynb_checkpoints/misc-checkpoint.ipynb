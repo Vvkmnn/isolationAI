{
 "cells": [
  {
   "cell_type": "markdown",
   "metadata": {},
   "source": [
    "## Misc"
   ]
  },
  {
   "cell_type": "markdown",
   "metadata": {},
   "source": [
    "An exploration into `@property` via [these guys](https://www.programiz.com/python-programming/property)."
   ]
  },
  {
   "cell_type": "code",
   "execution_count": 21,
   "metadata": {
    "collapsed": true
   },
   "outputs": [],
   "source": [
    "class Celsius:\n",
    "    def __init__(self, temperature = 0):\n",
    "        self.temperature = temperature\n",
    "\n",
    "    def to_fahrenheit(self):\n",
    "        return (self.temperature * 1.8) + 32"
   ]
  },
  {
   "cell_type": "code",
   "execution_count": 23,
   "metadata": {
    "collapsed": false
   },
   "outputs": [
    {
     "data": {
      "text/plain": [
       "37"
      ]
     },
     "execution_count": 23,
     "metadata": {},
     "output_type": "execute_result"
    }
   ],
   "source": [
    "man = Celsius()\n",
    "man.temperature = 37\n",
    "man.temperature"
   ]
  },
  {
   "cell_type": "code",
   "execution_count": 24,
   "metadata": {
    "collapsed": false
   },
   "outputs": [
    {
     "data": {
      "text/plain": [
       "{'temperature': 37}"
      ]
     },
     "execution_count": 24,
     "metadata": {},
     "output_type": "execute_result"
    }
   ],
   "source": [
    "# When retrieving these values, its analgous to searching this classes dictionary \n",
    "man.__dict__"
   ]
  },
  {
   "cell_type": "markdown",
   "metadata": {},
   "source": [
    "Now we have an update forcing Celsuis to remain greater than -273 (Absolute Zero). Use getting and setting to incorporate this new rule."
   ]
  },
  {
   "cell_type": "markdown",
   "metadata": {},
   "source": [
    "### Getting and Setting"
   ]
  },
  {
   "cell_type": "code",
   "execution_count": 25,
   "metadata": {
    "collapsed": true
   },
   "outputs": [],
   "source": [
    "class Celsius:\n",
    "    def __init__(self, temperature = 0):\n",
    "        self.set_temperature(temperature) # sets the temperature via set_temperature, not the internal dict\n",
    "\n",
    "    def to_fahrenheit(self):\n",
    "        return (self.get_temperature() * 1.8) + 32 # same as before\n",
    "\n",
    "    # new update\n",
    "    def get_temperature(self):\n",
    "        return self._temperature # new get_temperature function assigns temp to hidden _temperature\n",
    "\n",
    "    def set_temperature(self, value):\n",
    "        if value < -273:\n",
    "            raise ValueError(\"Temperature below -273 is not possible\")\n",
    "        self._temperature = value # Checks if less than -273, raises ValueError else returns value"
   ]
  },
  {
   "cell_type": "code",
   "execution_count": 27,
   "metadata": {
    "collapsed": false
   },
   "outputs": [
    {
     "data": {
      "text/plain": [
       "-272"
      ]
     },
     "execution_count": 27,
     "metadata": {},
     "output_type": "execute_result"
    }
   ],
   "source": [
    "c = Celsius(-272)\n",
    "c.get_temperature()"
   ]
  },
  {
   "cell_type": "code",
   "execution_count": 29,
   "metadata": {
    "collapsed": false
   },
   "outputs": [
    {
     "data": {
      "text/plain": [
       "{'_temperature': -272}"
      ]
     },
     "execution_count": 29,
     "metadata": {},
     "output_type": "execute_result"
    }
   ],
   "source": [
    "# Note that despite the _, still a regular variable to the language; just a private convention\n",
    "c.__dict__"
   ]
  },
  {
   "cell_type": "markdown",
   "metadata": {},
   "source": [
    "Technically a valid refactor, but the bigger problem is that all the users who implemented the previous clas have to modify their class from `obj.temperature = val` to `obj.get_temperature(val)`, which can lead to serious issues. Our update was not backwards complete."
   ]
  },
  {
   "cell_type": "markdown",
   "metadata": {},
   "source": [
    "### The `@property` factory method"
   ]
  },
  {
   "cell_type": "markdown",
   "metadata": {},
   "source": [
    "The pythonic way to deal with the above problem is to use property. Here is how we could have achieved it."
   ]
  },
  {
   "cell_type": "code",
   "execution_count": 36,
   "metadata": {
    "collapsed": true
   },
   "outputs": [],
   "source": [
    "class Celsius:\n",
    "    def __init__(self, temperature = 0):\n",
    "        self.temperature = temperature # same variable definition as the original class\n",
    "\n",
    "    def to_fahrenheit(self):\n",
    "        return (self.temperature * 1.8) + 32 # same\n",
    "\n",
    "    def get_temperature(self):\n",
    "        print(\"Getting value\")\n",
    "        return self._temperature # returns that hidden variable\n",
    "\n",
    "    def set_temperature(self, value):\n",
    "        if value < -273:\n",
    "            raise ValueError(\"Temperature below -273 is not possible\")\n",
    "        print(\"Setting value\")\n",
    "        self._temperature = value # checks that hidden variable for the condition\n",
    "        \n",
    "    temperature = property(get_temperature,set_temperature) # makes a proprety object temperature, which attaches\n",
    "                                                            # the code get_temperature and set_temperature to the\n",
    "                                                            # attribute temperature"
   ]
  },
  {
   "cell_type": "markdown",
   "metadata": {},
   "source": [
    "Now, any code that retrieves the value of temperature will automatically call get_temperature() instead of a dictionary (__dict__) look-up. Similarly, any code that assigns a value to temperature will automatically call set_temperature(). "
   ]
  },
  {
   "cell_type": "code",
   "execution_count": 39,
   "metadata": {
    "collapsed": false
   },
   "outputs": [
    {
     "name": "stdout",
     "output_type": "stream",
     "text": [
      "Setting value\n"
     ]
    }
   ],
   "source": [
    "c = Celsius()"
   ]
  },
  {
   "cell_type": "code",
   "execution_count": 40,
   "metadata": {
    "collapsed": false
   },
   "outputs": [
    {
     "name": "stdout",
     "output_type": "stream",
     "text": [
      "Setting value\n"
     ]
    }
   ],
   "source": [
    "c.temperature = 37"
   ]
  },
  {
   "cell_type": "code",
   "execution_count": 41,
   "metadata": {
    "collapsed": false
   },
   "outputs": [
    {
     "name": "stdout",
     "output_type": "stream",
     "text": [
      "Getting value\n"
     ]
    },
    {
     "data": {
      "text/plain": [
       "98.60000000000001"
      ]
     },
     "execution_count": 41,
     "metadata": {},
     "output_type": "execute_result"
    }
   ],
   "source": [
    "c.to_fahrenheit()"
   ]
  },
  {
   "cell_type": "markdown",
   "metadata": {},
   "source": [
    "By using property, we can see that, we modified our class and implemented the value constraint without any change required to the client code. Thus our implementation was backward compatible.\n",
    "\n",
    "The reason is that when an object is created, `__init__()` method gets called. This method has the line `self.temperature = temperature`. This assignment automatically called set_temperature()."
   ]
  },
  {
   "cell_type": "markdown",
   "metadata": {},
   "source": [
    "Let's dig deeper:\n",
    "\n",
    "`property(fget=None, fset=None, fdel=None, doc=None)`\n",
    "\n",
    "Where: \n",
    "* `fget` is function to get value of the attribute\n",
    "* `fset` is function to set value of the attribute\n",
    "* `fdel` is function to delete the attribute\n",
    "* `doc` is a string (like a comment). \n",
    "\n",
    "As seen from the implementation above , these function arguments are optional; a property object can simply be created via:"
   ]
  },
  {
   "cell_type": "code",
   "execution_count": 42,
   "metadata": {
    "collapsed": false
   },
   "outputs": [
    {
     "data": {
      "text/plain": [
       "<property at 0x1049af048>"
      ]
     },
     "execution_count": 42,
     "metadata": {},
     "output_type": "execute_result"
    }
   ],
   "source": [
    "property()"
   ]
  },
  {
   "cell_type": "markdown",
   "metadata": {},
   "source": [
    "A property object has three methods, `getter()`, `setter()`, and `delete()` to specify `fget`, `fset` and `fdel` at a later point. \n",
    "\n",
    "This means, the line:"
   ]
  },
  {
   "cell_type": "code",
   "execution_count": null,
   "metadata": {
    "collapsed": true
   },
   "outputs": [],
   "source": [
    "temperature = property(get_temperature,set_temperature)"
   ]
  },
  {
   "cell_type": "markdown",
   "metadata": {},
   "source": [
    "Is equivalent to:"
   ]
  },
  {
   "cell_type": "code",
   "execution_count": 56,
   "metadata": {
    "collapsed": false
   },
   "outputs": [],
   "source": [
    "# make empty property\n",
    "temperature = property()\n",
    "\n",
    "# grab the functions from before\n",
    "def get_temperature(self):\n",
    "    print(\"Getting value\")\n",
    "    return self._temperature # returns that hidden variable\n",
    "\n",
    "def set_temperature(self, value):\n",
    "    if value < -273:\n",
    "        raise ValueError(\"Temperature below -273 is not possible\")\n",
    "    print(\"Setting value\")\n",
    "    self._temperature = value # checks that hidden variable for the condition\n",
    "\n",
    "def del_temperature(self):\n",
    "    print(\"Clearing value\")\n",
    "    return 0\n",
    "    \n",
    "# assign fget; the getter\n",
    "temperature = temperature.getter(get_temperature)\n",
    "\n",
    "# assign fset; the setter\n",
    "temperature = temperature.setter(set_temperature)\n",
    "\n",
    "# assign fdel; the deleter\n",
    "temperature = temperature.deleter(del_temperature)"
   ]
  },
  {
   "cell_type": "code",
   "execution_count": 58,
   "metadata": {
    "collapsed": false
   },
   "outputs": [
    {
     "data": {
      "text/plain": [
       "<property at 0x1049ce9a8>"
      ]
     },
     "execution_count": 58,
     "metadata": {},
     "output_type": "execute_result"
    }
   ],
   "source": [
    "temperature.getter(3)"
   ]
  },
  {
   "cell_type": "markdown",
   "metadata": {},
   "source": [
    "The above construct can be implemented as a decorator. In fact, we can go even further and not define names `get_temperature` and `set_temperature` as they are unnecessary and pollute the class namespace. For this, we reuse the name `temperature` while defining our getter and setter functions. \n",
    "\n",
    "This is how it can be done:"
   ]
  },
  {
   "cell_type": "code",
   "execution_count": 50,
   "metadata": {
    "collapsed": false
   },
   "outputs": [],
   "source": [
    "class Celsius:\n",
    "    def __init__(self, temperature = 0):\n",
    "        self._temperature = temperature\n",
    "\n",
    "    def to_fahrenheit(self):\n",
    "        return (self.temperature * 1.8) + 32\n",
    "\n",
    "    @property\n",
    "    def temperature(self):\n",
    "        print(\"Getting value\")\n",
    "        return self._temperature\n",
    "    \n",
    "    @temperature.setter\n",
    "    def temperature(self, value):\n",
    "        if value < -273:\n",
    "            raise ValueError(\"Temperature below -273 is not possible\")\n",
    "        print(\"Setting value\")\n",
    "        self._temperature = value"
   ]
  },
  {
   "cell_type": "code",
   "execution_count": 47,
   "metadata": {
    "collapsed": false
   },
   "outputs": [
    {
     "ename": "AttributeError",
     "evalue": "can't set attribute",
     "output_type": "error",
     "traceback": [
      "\u001b[0;31m---------------------------------------------------------------------------\u001b[0m",
      "\u001b[0;31mAttributeError\u001b[0m                            Traceback (most recent call last)",
      "\u001b[0;32m<ipython-input-47-89efa2264eec>\u001b[0m in \u001b[0;36m<module>\u001b[0;34m()\u001b[0m\n\u001b[1;32m      1\u001b[0m \u001b[0mc\u001b[0m \u001b[0;34m=\u001b[0m \u001b[0mCelsius\u001b[0m\u001b[0;34m(\u001b[0m\u001b[0;34m)\u001b[0m\u001b[0;34m\u001b[0m\u001b[0m\n\u001b[0;32m----> 2\u001b[0;31m \u001b[0mc\u001b[0m\u001b[0;34m.\u001b[0m\u001b[0mtemperature\u001b[0m \u001b[0;34m=\u001b[0m \u001b[0;36m37\u001b[0m\u001b[0;34m\u001b[0m\u001b[0m\n\u001b[0m",
      "\u001b[0;31mAttributeError\u001b[0m: can't set attribute"
     ]
    }
   ],
   "source": [
    "c = Celsius()\n",
    "c.temperature = 37"
   ]
  },
  {
   "cell_type": "markdown",
   "metadata": {},
   "source": [
    "## Board"
   ]
  },
  {
   "cell_type": "code",
   "execution_count": null,
   "metadata": {
    "collapsed": true
   },
   "outputs": [],
   "source": [
    "\"\"\"\n",
    "This file contains the `Board` class, which implements the rules for the\n",
    "game Isolation as described in lecture, modified so that the players move\n",
    "like knights in chess rather than queens.\n",
    "\n",
    "You MAY use and modify this class, however ALL function signatures must\n",
    "remain compatible with the defaults provided, and none of your changes will\n",
    "be available to project reviewers.\n",
    "\"\"\"\n",
    "\n",
    "## Imports\n",
    "import timeit\n",
    "\n",
    "from copy import deepcopy\n",
    "from copy import copy\n",
    "\n",
    "## Env Variables\n",
    "TIME_LIMIT_MILLIS = 200\n",
    "\n",
    "## The board class we import later\n",
    "class Board(object):\n",
    "    \"\"\"\n",
    "    Implement a model for the game Isolation assuming each player moves like\n",
    "    a knight in chess.\n",
    "\n",
    "    Parameters\n",
    "    ----------\n",
    "    player_1 : object\n",
    "        An object with a get_move() function. This is the only function\n",
    "        directly called by the Board class for each player.\n",
    "\n",
    "    player_2 : object\n",
    "        An object with a get_move() function. This is the only function\n",
    "        directly called by the Board class for each player.\n",
    "\n",
    "    width : int (optional)\n",
    "        The number of columns that the board should have.\n",
    "\n",
    "    height : int (optional)\n",
    "        The number of rows that the board should have.\n",
    "    \"\"\"\n",
    "    BLANK = 0\n",
    "    NOT_MOVED = None\n",
    "\n",
    "    def __init__(self, player_1, player_2, width=7, height=7):\n",
    "        self.width = width\n",
    "        self.height = height\n",
    "        self.move_count = 0\n",
    "        self.__player_1__ = player_1\n",
    "        self.__player_2__ = player_2\n",
    "        self.__active_player__ = player_1\n",
    "        self.__inactive_player__ = player_2\n",
    "        self.__board_state__ = [[Board.BLANK for i in range(width)] for j in range(height)]\n",
    "        self.__last_player_move__ = {player_1: Board.NOT_MOVED, player_2: Board.NOT_MOVED}\n",
    "        self.__player_symbols__ = {Board.BLANK: Board.BLANK, player_1: 1, player_2: 2}\n",
    "\n",
    "    @property\n",
    "    def active_player(self):\n",
    "        \"\"\"\n",
    "        The object registered as the player holding initiative in the\n",
    "        current game state.\n",
    "        \"\"\"\n",
    "        return self.__active_player__\n",
    "\n",
    "    @property\n",
    "    def inactive_player(self):\n",
    "        \"\"\"\n",
    "        The object registered as the player in waiting for the current\n",
    "        game state.\n",
    "        \"\"\"\n",
    "        return self.__inactive_player__\n",
    "\n",
    "    def get_opponent(self, player):\n",
    "        \"\"\"\n",
    "        Return the opponent of the supplied player.\n",
    "\n",
    "        Parameters\n",
    "        ----------\n",
    "        player : object\n",
    "            An object registered as a player in the current game. Raises an\n",
    "            error if the supplied object is not registered as a player in\n",
    "            this game.\n",
    "\n",
    "        Returns\n",
    "        ----------\n",
    "        object\n",
    "            The opponent of the input player object.\n",
    "        \"\"\"\n",
    "        if player == self.__active_player__:\n",
    "            return self.__inactive_player__\n",
    "        elif player == self.__inactive_player__:\n",
    "            return self.__active_player__\n",
    "        raise RuntimeError(\"`player` must be an object registered as a player in the current game.\")\n",
    "\n",
    "    def copy(self):\n",
    "        \"\"\" Return a deep copy of the current board. \"\"\"\n",
    "        new_board = Board(self.__player_1__, self.__player_2__, width=self.width, height=self.height)\n",
    "        new_board.move_count = self.move_count\n",
    "        new_board.__active_player__ = self.__active_player__\n",
    "        new_board.__inactive_player__ = self.__inactive_player__\n",
    "        new_board.__last_player_move__ = copy(self.__last_player_move__)\n",
    "        new_board.__player_symbols__ = copy(self.__player_symbols__)\n",
    "        new_board.__board_state__ = deepcopy(self.__board_state__)\n",
    "        return new_board\n",
    "\n",
    "    def forecast_move(self, move):\n",
    "        \"\"\"\n",
    "        Return a deep copy of the current game with an input move applied to\n",
    "        advance the game one ply.\n",
    "\n",
    "        Parameters\n",
    "        ----------\n",
    "        move : (int, int)\n",
    "            A coordinate pair (row, column) indicating the next position for\n",
    "            the active player on the board.\n",
    "\n",
    "        Returns\n",
    "        ----------\n",
    "        `isolation.Board`\n",
    "            A deep copy of the board with the input move applied.\n",
    "        \"\"\"\n",
    "        new_board = self.copy()\n",
    "        new_board.apply_move(move)\n",
    "        return new_board\n",
    "\n",
    "    def move_is_legal(self, move):\n",
    "        \"\"\"\n",
    "        Test whether a move is legal in the current game state.\n",
    "\n",
    "        Parameters\n",
    "        ----------\n",
    "        move : (int, int)\n",
    "            A coordinate pair (row, column) indicating the next position for\n",
    "            the active player on the board.\n",
    "\n",
    "        Returns\n",
    "        ----------\n",
    "        bool\n",
    "            Returns True if the move is legal, False otherwise\n",
    "        \"\"\"\n",
    "        row, col = move\n",
    "        return 0 <= row < self.height and \\\n",
    "               0 <= col < self.width and \\\n",
    "               self.__board_state__[row][col] == Board.BLANK\n",
    "\n",
    "    def get_blank_spaces(self):\n",
    "        \"\"\"\n",
    "        Return a list of the locations that are still available on the board.\n",
    "        \"\"\"\n",
    "        return [(i, j) for j in range(self.width) for i in range(self.height)\n",
    "            if self.__board_state__[i][j] == Board.BLANK]\n",
    "\n",
    "    def get_player_location(self, player):\n",
    "        \"\"\"\n",
    "        Find the current location of the specified player on the board.\n",
    "\n",
    "        Parameters\n",
    "        ----------\n",
    "        player : object\n",
    "            An object registered as a player in the current game.\n",
    "\n",
    "        Returns\n",
    "        ----------\n",
    "        (int, int)\n",
    "            The coordinate pair (row, column) of the input player.\n",
    "        \"\"\"\n",
    "        return self.__last_player_move__[player]\n",
    "\n",
    "    def get_legal_moves(self, player=None):\n",
    "        \"\"\"\n",
    "        Return the list of all legal moves for the specified player.\n",
    "\n",
    "        Parameters\n",
    "        ----------\n",
    "        player : object (optional)\n",
    "            An object registered as a player in the current game. If None,\n",
    "            return the legal moves for the active player on the board.\n",
    "\n",
    "        Returns\n",
    "        ----------\n",
    "        list<(int, int)>\n",
    "            The list of coordinate pairs (row, column) of all legal moves\n",
    "            for the player constrained by the current game state.\n",
    "        \"\"\"\n",
    "        if player is None:\n",
    "            player = self.active_player\n",
    "        return self.__get_moves__(self.__last_player_move__[player])\n",
    "\n",
    "    def apply_move(self, move):\n",
    "        \"\"\"\n",
    "        Move the active player to a specified location.\n",
    "\n",
    "        Parameters\n",
    "        ----------\n",
    "        move : (int, int)\n",
    "            A coordinate pair (row, column) indicating the next position for\n",
    "            the active player on the board.\n",
    "\n",
    "        Returns\n",
    "        ----------\n",
    "        None\n",
    "        \"\"\"\n",
    "        row, col = move\n",
    "        self.__last_player_move__[self.active_player] = move\n",
    "        self.__board_state__[row][col] = self.__player_symbols__[self.active_player]\n",
    "        self.__active_player__, self.__inactive_player__ = self.__inactive_player__, self.__active_player__\n",
    "        self.move_count += 1\n",
    "\n",
    "    def is_winner(self, player):\n",
    "        \"\"\" Test whether the specified player has won the game. \"\"\"\n",
    "        return player == self.inactive_player and not self.get_legal_moves(self.active_player)\n",
    "\n",
    "    def is_loser(self, player):\n",
    "        \"\"\" Test whether the specified player has lost the game. \"\"\"\n",
    "        return player == self.active_player and not self.get_legal_moves(self.active_player)\n",
    "\n",
    "    def utility(self, player):\n",
    "        \"\"\"\n",
    "        Returns the utility of the current game state from the perspective\n",
    "        of the specified player.\n",
    "\n",
    "                    /  +infinity,   \"player\" wins\n",
    "        utility =  |   -infinity,   \"player\" loses\n",
    "                    \\          0,    otherwise\n",
    "\n",
    "        Parameters\n",
    "        ----------\n",
    "        player : object (optional)\n",
    "            An object registered as a player in the current game. If None,\n",
    "            return the utility for the active player on the board.\n",
    "\n",
    "        Returns\n",
    "        ----------\n",
    "        float\n",
    "            The utility value of the current game state for the specified\n",
    "            player. The game has a utility of +inf if the player has won,\n",
    "            a value of -inf if the player has lost, and a value of 0\n",
    "            otherwise.\n",
    "        \"\"\"\n",
    "\n",
    "        if not self.get_legal_moves(self.active_player):\n",
    "\n",
    "            if player == self.inactive_player:\n",
    "                return float(\"inf\")\n",
    "\n",
    "            if player == self.active_player:\n",
    "                return float(\"-inf\")\n",
    "\n",
    "        return 0.\n",
    "\n",
    "    def __get_moves__(self, move):\n",
    "        \"\"\"\n",
    "        Generate the list of possible moves for an L-shaped motion (like a\n",
    "        knight in chess).\n",
    "        \"\"\"\n",
    "\n",
    "        if move == Board.NOT_MOVED:\n",
    "            return self.get_blank_spaces()\n",
    "\n",
    "        r, c = move\n",
    "\n",
    "        directions = [(-2, -1), (-2, 1), (-1, -2), (-1, 2),\n",
    "                      (1, -2),  (1, 2), (2, -1),  (2, 1)]\n",
    "\n",
    "        valid_moves = [(r+dr,c+dc) for dr, dc in directions if self.move_is_legal((r+dr, c+dc))]\n",
    "\n",
    "        return valid_moves\n",
    "\n",
    "    def print_board(self):\n",
    "        \"\"\"DEPRECATED - use Board.to_string()\"\"\"\n",
    "        return self.to_string()\n",
    "\n",
    "    def to_string(self):\n",
    "        \"\"\"Generate a string representation of the current game state, marking\n",
    "        the location of each player and indicating which cells have been\n",
    "        blocked, and which remain open.\n",
    "        \"\"\"\n",
    "\n",
    "        p1_loc = self.__last_player_move__[self.__player_1__]\n",
    "        p2_loc = self.__last_player_move__[self.__player_2__]\n",
    "\n",
    "        out = ''\n",
    "\n",
    "        for i in range(self.height):\n",
    "            out += ' | '\n",
    "\n",
    "            for j in range(self.width):\n",
    "\n",
    "                if not self.__board_state__[i][j]:\n",
    "                    out += ' '\n",
    "                elif p1_loc and i == p1_loc[0] and j == p1_loc[1]:\n",
    "                    out += '1'\n",
    "                elif p2_loc and i == p2_loc[0] and j == p2_loc[1]:\n",
    "                    out += '2'\n",
    "                else:\n",
    "                    out += '-'\n",
    "\n",
    "                out += ' | '\n",
    "            out += '\\n\\r'\n",
    "\n",
    "        return out\n",
    "\n",
    "    def play(self, time_limit=TIME_LIMIT_MILLIS):\n",
    "        \"\"\"\n",
    "        Execute a match between the players by alternately soliciting them\n",
    "        to select a move and applying it in the game.\n",
    "\n",
    "        Parameters\n",
    "        ----------\n",
    "        time_limit : numeric (optional)\n",
    "            The maximum number of milliseconds to allow before timeout\n",
    "            during each turn.\n",
    "\n",
    "        Returns\n",
    "        ----------\n",
    "        (player, list<[(int, int),]>, str)\n",
    "            Return multiple including the winning player, the complete game\n",
    "            move history, and a string indicating the reason for losing\n",
    "            (e.g., timeout or invalid move).\n",
    "        \"\"\"\n",
    "        move_history = []\n",
    "\n",
    "        curr_time_millis = lambda: 1000 * timeit.default_timer()\n",
    "\n",
    "        while True:\n",
    "\n",
    "            legal_player_moves = self.get_legal_moves()\n",
    "\n",
    "            game_copy = self.copy()\n",
    "\n",
    "            move_start = curr_time_millis()\n",
    "            time_left = lambda : time_limit - (curr_time_millis() - move_start)\n",
    "            curr_move = self.active_player.get_move(game_copy, legal_player_moves, time_left)\n",
    "            move_end = time_left()\n",
    "\n",
    "            # print move_end\n",
    "\n",
    "            if curr_move is None:\n",
    "                curr_move = Board.NOT_MOVED\n",
    "\n",
    "            if self.active_player == self.__player_1__:\n",
    "                move_history.append([curr_move])\n",
    "            else:\n",
    "                move_history[-1].append(curr_move)\n",
    "\n",
    "            if move_end < 0:\n",
    "                return self.__inactive_player__, move_history, \"timeout\"\n",
    "\n",
    "            if curr_move not in legal_player_moves:\n",
    "                return self.__inactive_player__, move_history, \"illegal move\"\n",
    "\n",
    "            self.apply_move(curr_move)"
   ]
  },
  {
   "cell_type": "markdown",
   "metadata": {},
   "source": [
    "## Sample Player"
   ]
  },
  {
   "cell_type": "code",
   "execution_count": 5,
   "metadata": {
    "collapsed": true
   },
   "outputs": [],
   "source": [
    "\"\"\"This file contains a collection of player classes for comparison with your\n",
    "own agent and example heuristic functions.\n",
    "\"\"\"\n",
    "\n",
    "from random import randint"
   ]
  },
  {
   "cell_type": "markdown",
   "metadata": {},
   "source": [
    "### Scoring (Evaluation Functions)"
   ]
  },
  {
   "cell_type": "code",
   "execution_count": 8,
   "metadata": {
    "collapsed": true
   },
   "outputs": [],
   "source": [
    "def null_score(game, player):\n",
    "    \"\"\"\n",
    "    This heuristic presumes no knowledge for non-terminal states, and\n",
    "    returns the same uninformative value for all other states.\n",
    "    \n",
    "    Parameters\n",
    "    ----------\n",
    "    game : `isolation.Board`\n",
    "        An instance of `isolation.Board` encoding the current state of the\n",
    "        game (e.g., player locations and blocked cells).\n",
    "    player : hashable\n",
    "        One of the objects registered by the game object as a valid player.\n",
    "        (i.e., `player` should be either game.__player_1__ or\n",
    "        game.__player_2__).\n",
    "    Returns\n",
    "    ----------\n",
    "    float\n",
    "        The heuristic value of the current game state.\n",
    "    \"\"\"\n",
    "    # if no one has lost or one yet\n",
    "    if game.is_loser(player):\n",
    "        return float(\"-inf\")\n",
    "\n",
    "    if game.is_winner(player):\n",
    "        return float(\"inf\")\n",
    "    \n",
    "    # this eval fn returns 0\n",
    "    return 0.\n",
    "\n",
    "\n",
    "def open_move_score(game, player):\n",
    "    \"\"\"\n",
    "    The basic evaluation function described in lecture that outputs a score\n",
    "    equal to the number of moves open for your computer player on the board.\n",
    "    (#my_moves)\n",
    "    \n",
    "    Parameters\n",
    "    ----------\n",
    "    game : `isolation.Board`\n",
    "        An instance of `isolation.Board` encoding the current state of the\n",
    "        game (e.g., player locations and blocked cells).\n",
    "    player : hashable\n",
    "        One of the objects registered by the game object as a valid player.\n",
    "        (i.e., `player` should be either game.__player_1__ or\n",
    "        game.__player_2__).\n",
    "        \n",
    "    Returns\n",
    "    ----------\n",
    "    float\n",
    "        The heuristic value of the current game state\n",
    "    \"\"\"\n",
    "    \n",
    "    # if this player has already lost, your eval fn is -inf\n",
    "    if game.is_loser(player):\n",
    "        return float(\"-inf\")\n",
    "\n",
    "    # if this player has already won, your eval fn is inf\n",
    "    if game.is_winner(player):\n",
    "        return float(\"inf\")\n",
    "\n",
    "    # if no one has won yet\n",
    "    return float(len(game.get_legal_moves(player)))\n",
    "\n",
    "\n",
    "def improved_score(game, player):\n",
    "    \"\"\"\n",
    "    The \"Improved\" evaluation function discussed in lecture that outputs a\n",
    "    score equal to the difference in the number of moves available to the\n",
    "    two players.\n",
    "    Parameters\n",
    "    (#my_moves - #their_moves)\n",
    "    \n",
    "    ----------\n",
    "    game : `isolation.Board`\n",
    "        An instance of `isolation.Board` encoding the current state of the\n",
    "        game (e.g., player locations and blocked cells).\n",
    "        \n",
    "    player : hashable\n",
    "        One of the objects registered by the game object as a valid player.\n",
    "        (i.e., `player` should be either game.__player_1__ or\n",
    "        game.__player_2__).\n",
    "    Returns\n",
    "    ----------\n",
    "    float\n",
    "        The heuristic value of the current game state\n",
    "    \"\"\"\n",
    "   \n",
    "    # Same as open_move_score\n",
    "    if game.is_loser(player):\n",
    "        return float(\"-inf\")\n",
    "\n",
    "    if game.is_winner(player):\n",
    "        return float(\"inf\")\n",
    "    \n",
    "    # if no one has one yet, get the available moves for each and return the difference\n",
    "    own_moves = len(game.get_legal_moves(player))\n",
    "    opp_moves = len(game.get_legal_moves(game.get_opponent(player)))\n",
    "    return float(own_moves - opp_moves)"
   ]
  },
  {
   "cell_type": "markdown",
   "metadata": {},
   "source": [
    "### Players"
   ]
  },
  {
   "cell_type": "code",
   "execution_count": 9,
   "metadata": {
    "collapsed": false
   },
   "outputs": [
    {
     "name": "stdout",
     "output_type": "stream",
     "text": [
      " |   |   |   |   |   | 2 |   | \n",
      "\r",
      " |   |   |   |   |   |   |   | \n",
      "\r",
      " |   |   |   | 1 |   |   |   | \n",
      "\r",
      " |   |   |   |   |   |   |   | \n",
      "\r",
      " |   |   |   |   |   |   |   | \n",
      "\r",
      " |   |   |   |   |   |   |   | \n",
      "\r",
      " |   |   |   |   |   |   |   | \n",
      "\r\n",
      "[(0, 2), (0, 4), (1, 1), (1, 5), (3, 1), (3, 5), (4, 2), (4, 4)]\n",
      "\n",
      "Old state:\n",
      " |   |   |   |   |   | 2 |   | \n",
      "\r",
      " |   |   |   |   |   |   |   | \n",
      "\r",
      " |   |   |   | 1 |   |   |   | \n",
      "\r",
      " |   |   |   |   |   |   |   | \n",
      "\r",
      " |   |   |   |   |   |   |   | \n",
      "\r",
      " |   |   |   |   |   |   |   | \n",
      "\r",
      " |   |   |   |   |   |   |   | \n",
      "\r\n",
      "\n",
      "New state:\n",
      " |   |   |   |   |   | 2 |   | \n",
      "\r",
      " |   | 1 |   |   |   |   |   | \n",
      "\r",
      " |   |   |   | - |   |   |   | \n",
      "\r",
      " |   |   |   |   |   |   |   | \n",
      "\r",
      " |   |   |   |   |   |   |   | \n",
      "\r",
      " |   |   |   |   |   |   |   | \n",
      "\r",
      " |   |   |   |   |   |   |   | \n",
      "\r\n",
      "\n",
      "Winner: <__main__.GreedyPlayer object at 0x10498f208>\n",
      "Outcome: illegal move\n",
      " |   | 1 |   |   |   | - |   | \n",
      "\r",
      " |   |   | - | - |   |   |   | \n",
      "\r",
      " | - | - | - | - | - | - |   | \n",
      "\r",
      " |   | - | - | - | - | - |   | \n",
      "\r",
      " | - | - | - | - | - |   | - | \n",
      "\r",
      " | - |   | - | - | - |   | - | \n",
      "\r",
      " |   |   | - | - | - | 2 |   | \n",
      "\r\n",
      "Move history:\n",
      "[[(3, 5), (2, 4)], [(5, 6), (3, 2)], [(4, 4), (5, 3)], [(6, 3), (3, 4)], [(4, 2), (2, 2)], [(5, 0), (4, 3)], [(3, 1), (6, 4)], [(1, 2), (5, 2)], [(3, 3), (4, 0)], [(5, 4), (2, 1)], [(6, 2), (1, 3)], [(4, 1), (2, 5)], [(2, 0), (4, 6)], [(0, 1), (6, 5)], [(-1, -1)]]\n"
     ]
    }
   ],
   "source": [
    "class RandomPlayer():\n",
    "    \"\"\"Player that chooses a move randomly.\"\"\"\n",
    "\n",
    "    def get_move(self, game, legal_moves, time_left):\n",
    "        \"\"\"Randomly select a move from the available legal moves.\n",
    "        Parameters\n",
    "        ----------\n",
    "        game : `isolation.Board`\n",
    "            An instance of `isolation.Board` encoding the current state of the\n",
    "            game (e.g., player locations and blocked cells).\n",
    "        legal_moves : list<(int, int)>\n",
    "            A list containing legal moves. Moves are encoded as tuples of pairs\n",
    "            of ints defining the next (row, col) for the agent to occupy.\n",
    "        time_left : callable\n",
    "            A function that returns the number of milliseconds left in the\n",
    "            current turn. Returning with any less than 0 ms remaining forfeits\n",
    "            the game.\n",
    "            \n",
    "        Returns\n",
    "        ----------\n",
    "        (int, int)\n",
    "            A randomly selected legal move; may return (-1, -1) if there are\n",
    "            no available legal moves.\n",
    "        \"\"\"\n",
    "\n",
    "        # Pick randomly from legal_moves, else return (-1,-1)\n",
    "        if not legal_moves:\n",
    "            return (-1, -1)\n",
    "        return legal_moves[randint(0, len(legal_moves) - 1)]\n",
    "\n",
    "\n",
    "class GreedyPlayer():\n",
    "    \"\"\"Player that chooses next move to maximize heuristic score. This is\n",
    "    equivalent to a minimax search agent with a search depth of one.\n",
    "    \"\"\"\n",
    "    \n",
    "    # initialize the class by picking a certain scoring fn from above\n",
    "    def __init__(self, score_fn=open_move_score):\n",
    "        self.score = score_fn\n",
    "        \n",
    "    # same method as RandomPlayer() but with max instead of random\n",
    "    def get_move(self, game, legal_moves, time_left):\n",
    "        \"\"\"Select the move from the available legal moves with the highest\n",
    "        heuristic score.\n",
    "        Parameters\n",
    "        ----------\n",
    "        game : `isolation.Board`\n",
    "            An instance of `isolation.Board` encoding the current state of the\n",
    "            game (e.g., player locations and blocked cells).\n",
    "        legal_moves : list<(int, int)>\n",
    "            A list containing legal moves. Moves are encoded as tuples of pairs\n",
    "            of ints defining the next (row, col) for the agent to occupy.\n",
    "        time_left : callable\n",
    "            A function that returns the number of milliseconds left in the\n",
    "            current turn. Returning with any less than 0 ms remaining forfeits\n",
    "            the game.\n",
    "        Returns\n",
    "        ----------\n",
    "        (int, int)\n",
    "            The move in the legal moves list with the highest heuristic score\n",
    "            for the current game state; may return (-1, -1) if there are no\n",
    "            legal moves.\n",
    "        \"\"\"\n",
    "        \n",
    "        # no legal moves, loses\n",
    "        if not legal_moves:\n",
    "            return (-1, -1)\n",
    "        # score all the potential moves use self.score and forecast_move for every legal move\n",
    "        _, move = max([(self.score(game.forecast_move(m), self), m) for m in legal_moves])\n",
    "        # ignore the score, return the best move \n",
    "        return move\n",
    "\n",
    "\n",
    "class HumanPlayer():\n",
    "    \"\"\"Player that chooses a move according to user's input.\"\"\"\n",
    "\n",
    "    def get_move(self, game, legal_moves, time_left):\n",
    "        \"\"\"\n",
    "        Select a move from the available legal moves based on user input at the\n",
    "        terminal.\n",
    "        \n",
    "        **********************************************************************\n",
    "        NOTE: If testing with this player, remember to disable move timeout in\n",
    "              the call to `Board.play()`.\n",
    "        **********************************************************************\n",
    "       \n",
    "       Parameters\n",
    "        ----------\n",
    "        game : `isolation.Board`\n",
    "            An instance of `isolation.Board` encoding the current state of the\n",
    "            game (e.g., player locations and blocked cells).\n",
    "        legal_moves : list<(int, int)>\n",
    "            A list containing legal moves. Moves are encoded as tuples of pairs\n",
    "            of ints defining the next (row, col) for the agent to occupy.\n",
    "        time_left : callable\n",
    "            A function that returns the number of milliseconds left in the\n",
    "            current turn. Returning with any less than 0 ms remaining forfeits\n",
    "            the game.\n",
    "        Returns\n",
    "        ----------\n",
    "        (int, int)\n",
    "            The move in the legal moves list selected by the user through the\n",
    "            terminal prompt; automatically return (-1, -1) if there are no\n",
    "            legal moves\n",
    "        \"\"\"\n",
    "        \n",
    "        if not legal_moves:\n",
    "            return (-1, -1)\n",
    "\n",
    "        print(('\\t'.join(['[%d] %s' % (i, str(move)) for i, move in enumerate(legal_moves)])))\n",
    "\n",
    "        valid_choice = False\n",
    "        while not valid_choice:\n",
    "            try:\n",
    "                index = int(input('Select move index:'))\n",
    "                valid_choice = 0 <= index < len(legal_moves)\n",
    "\n",
    "                if not valid_choice:\n",
    "                    print('Illegal move! Try again.')\n",
    "\n",
    "            except ValueError:\n",
    "                print('Invalid index! Try again.')\n",
    "\n",
    "        return legal_moves[index]\n",
    "\n",
    "\n",
    "if __name__ == \"__main__\":\n",
    "    \n",
    "    # from isolation.py get the Board class\n",
    "    from isolation import Board\n",
    "\n",
    "    ## Setup\n",
    "    # create an isolation board (by default 7x7) and some players\n",
    "    player1 = RandomPlayer()\n",
    "    player2 = GreedyPlayer()\n",
    "    game = Board(player1, player2)\n",
    "\n",
    "    # place player 1 on the board at row 2, column 3, then place player 2 on\n",
    "    # the board at row 0, column 5; display the resulting board state.  Note\n",
    "    # that .apply_move() changes the calling object\n",
    "    \n",
    "    # apply move and print the game board\n",
    "    game.apply_move((2, 3))\n",
    "    game.apply_move((0, 5))\n",
    "    print(game.to_string())\n",
    "    \n",
    "    ## Play\n",
    "    \n",
    "    # players take turns moving on the board, so player1 should be next to move\n",
    "    assert(player1 == game.active_player)\n",
    "\n",
    "    # get a list of the legal moves available to the active player\n",
    "    print(game.get_legal_moves())\n",
    "\n",
    "    # get a successor of the current state by making a copy of the board and\n",
    "    # applying a move. Notice that this does NOT change the calling object\n",
    "    # (unlike .apply_move()).\n",
    "    \n",
    "    # make a new board as a branch of the old board, and assert not the same as before, then print both \n",
    "    new_game = game.forecast_move((1, 1))\n",
    "    assert(new_game.to_string() != game.to_string())\n",
    "    print(\"\\nOld state:\\n{}\".format(game.to_string()))\n",
    "    print(\"\\nNew state:\\n{}\".format(new_game.to_string()))\n",
    "\n",
    "    # play the remainder of the game automatically -- outcome can be \"illegal\n",
    "    # move\" or \"timeout\"; it should _always_ be \"illegal move\" in this example\n",
    "    \n",
    "    # play the game, and get the winner, history, and outcome from \n",
    "    winner, history, outcome = game.play()\n",
    "    print(\"\\nWinner: {}\\nOutcome: {}\".format(winner, outcome))\n",
    "    print(game.to_string())\n",
    "    print(\"Move history:\\n{!s}\".format(history))"
   ]
  }
 ],
 "metadata": {
  "kernelspec": {
   "display_name": "Python [default]",
   "language": "python",
   "name": "python3"
  },
  "language_info": {
   "codemirror_mode": {
    "name": "ipython",
    "version": 3
   },
   "file_extension": ".py",
   "mimetype": "text/x-python",
   "name": "python",
   "nbconvert_exporter": "python",
   "pygments_lexer": "ipython3",
   "version": "3.5.2"
  }
 },
 "nbformat": 4,
 "nbformat_minor": 2
}
